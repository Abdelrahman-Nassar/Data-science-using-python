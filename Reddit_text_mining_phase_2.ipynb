{
  "nbformat": 4,
  "nbformat_minor": 0,
  "metadata": {
    "colab": {
      "provenance": [],
      "collapsed_sections": [
        "a787CY40DkGm"
      ]
    },
    "kernelspec": {
      "name": "python3",
      "display_name": "Python 3"
    },
    "language_info": {
      "name": "python"
    }
  },
  "cells": [
    {
      "cell_type": "code",
      "source": [
        "!pip install nltk\n",
        "!pip install --upgrade nltk\n",
        "!pip install wordcloud\n",
        "import nltk\n",
        "nltk.download('punkt')\n",
        "nltk.download('wordnet')\n",
        "nltk.download('stopwords')\n"
      ],
      "metadata": {
        "id": "eO96tVdMhBKo"
      },
      "execution_count": null,
      "outputs": []
    },
    {
      "cell_type": "code",
      "source": [
        "#Upload data set \n",
        "from google.colab import files\n",
        "uploaded = files.upload()"
      ],
      "metadata": {
        "id": "BJNhImfNdo_L",
        "colab": {
          "base_uri": "https://localhost:8080/",
          "height": 72
        },
        "outputId": "77611fd9-261b-4c2f-d4dd-a167fe501557"
      },
      "execution_count": null,
      "outputs": [
        {
          "output_type": "display_data",
          "data": {
            "text/plain": [
              "<IPython.core.display.HTML object>"
            ],
            "text/html": [
              "\n",
              "     <input type=\"file\" id=\"files-fa21847f-936e-4996-8ffc-8bbbed775f4f\" name=\"files[]\" multiple disabled\n",
              "        style=\"border:none\" />\n",
              "     <output id=\"result-fa21847f-936e-4996-8ffc-8bbbed775f4f\">\n",
              "      Upload widget is only available when the cell has been executed in the\n",
              "      current browser session. Please rerun this cell to enable.\n",
              "      </output>\n",
              "      <script>// Copyright 2017 Google LLC\n",
              "//\n",
              "// Licensed under the Apache License, Version 2.0 (the \"License\");\n",
              "// you may not use this file except in compliance with the License.\n",
              "// You may obtain a copy of the License at\n",
              "//\n",
              "//      http://www.apache.org/licenses/LICENSE-2.0\n",
              "//\n",
              "// Unless required by applicable law or agreed to in writing, software\n",
              "// distributed under the License is distributed on an \"AS IS\" BASIS,\n",
              "// WITHOUT WARRANTIES OR CONDITIONS OF ANY KIND, either express or implied.\n",
              "// See the License for the specific language governing permissions and\n",
              "// limitations under the License.\n",
              "\n",
              "/**\n",
              " * @fileoverview Helpers for google.colab Python module.\n",
              " */\n",
              "(function(scope) {\n",
              "function span(text, styleAttributes = {}) {\n",
              "  const element = document.createElement('span');\n",
              "  element.textContent = text;\n",
              "  for (const key of Object.keys(styleAttributes)) {\n",
              "    element.style[key] = styleAttributes[key];\n",
              "  }\n",
              "  return element;\n",
              "}\n",
              "\n",
              "// Max number of bytes which will be uploaded at a time.\n",
              "const MAX_PAYLOAD_SIZE = 100 * 1024;\n",
              "\n",
              "function _uploadFiles(inputId, outputId) {\n",
              "  const steps = uploadFilesStep(inputId, outputId);\n",
              "  const outputElement = document.getElementById(outputId);\n",
              "  // Cache steps on the outputElement to make it available for the next call\n",
              "  // to uploadFilesContinue from Python.\n",
              "  outputElement.steps = steps;\n",
              "\n",
              "  return _uploadFilesContinue(outputId);\n",
              "}\n",
              "\n",
              "// This is roughly an async generator (not supported in the browser yet),\n",
              "// where there are multiple asynchronous steps and the Python side is going\n",
              "// to poll for completion of each step.\n",
              "// This uses a Promise to block the python side on completion of each step,\n",
              "// then passes the result of the previous step as the input to the next step.\n",
              "function _uploadFilesContinue(outputId) {\n",
              "  const outputElement = document.getElementById(outputId);\n",
              "  const steps = outputElement.steps;\n",
              "\n",
              "  const next = steps.next(outputElement.lastPromiseValue);\n",
              "  return Promise.resolve(next.value.promise).then((value) => {\n",
              "    // Cache the last promise value to make it available to the next\n",
              "    // step of the generator.\n",
              "    outputElement.lastPromiseValue = value;\n",
              "    return next.value.response;\n",
              "  });\n",
              "}\n",
              "\n",
              "/**\n",
              " * Generator function which is called between each async step of the upload\n",
              " * process.\n",
              " * @param {string} inputId Element ID of the input file picker element.\n",
              " * @param {string} outputId Element ID of the output display.\n",
              " * @return {!Iterable<!Object>} Iterable of next steps.\n",
              " */\n",
              "function* uploadFilesStep(inputId, outputId) {\n",
              "  const inputElement = document.getElementById(inputId);\n",
              "  inputElement.disabled = false;\n",
              "\n",
              "  const outputElement = document.getElementById(outputId);\n",
              "  outputElement.innerHTML = '';\n",
              "\n",
              "  const pickedPromise = new Promise((resolve) => {\n",
              "    inputElement.addEventListener('change', (e) => {\n",
              "      resolve(e.target.files);\n",
              "    });\n",
              "  });\n",
              "\n",
              "  const cancel = document.createElement('button');\n",
              "  inputElement.parentElement.appendChild(cancel);\n",
              "  cancel.textContent = 'Cancel upload';\n",
              "  const cancelPromise = new Promise((resolve) => {\n",
              "    cancel.onclick = () => {\n",
              "      resolve(null);\n",
              "    };\n",
              "  });\n",
              "\n",
              "  // Wait for the user to pick the files.\n",
              "  const files = yield {\n",
              "    promise: Promise.race([pickedPromise, cancelPromise]),\n",
              "    response: {\n",
              "      action: 'starting',\n",
              "    }\n",
              "  };\n",
              "\n",
              "  cancel.remove();\n",
              "\n",
              "  // Disable the input element since further picks are not allowed.\n",
              "  inputElement.disabled = true;\n",
              "\n",
              "  if (!files) {\n",
              "    return {\n",
              "      response: {\n",
              "        action: 'complete',\n",
              "      }\n",
              "    };\n",
              "  }\n",
              "\n",
              "  for (const file of files) {\n",
              "    const li = document.createElement('li');\n",
              "    li.append(span(file.name, {fontWeight: 'bold'}));\n",
              "    li.append(span(\n",
              "        `(${file.type || 'n/a'}) - ${file.size} bytes, ` +\n",
              "        `last modified: ${\n",
              "            file.lastModifiedDate ? file.lastModifiedDate.toLocaleDateString() :\n",
              "                                    'n/a'} - `));\n",
              "    const percent = span('0% done');\n",
              "    li.appendChild(percent);\n",
              "\n",
              "    outputElement.appendChild(li);\n",
              "\n",
              "    const fileDataPromise = new Promise((resolve) => {\n",
              "      const reader = new FileReader();\n",
              "      reader.onload = (e) => {\n",
              "        resolve(e.target.result);\n",
              "      };\n",
              "      reader.readAsArrayBuffer(file);\n",
              "    });\n",
              "    // Wait for the data to be ready.\n",
              "    let fileData = yield {\n",
              "      promise: fileDataPromise,\n",
              "      response: {\n",
              "        action: 'continue',\n",
              "      }\n",
              "    };\n",
              "\n",
              "    // Use a chunked sending to avoid message size limits. See b/62115660.\n",
              "    let position = 0;\n",
              "    do {\n",
              "      const length = Math.min(fileData.byteLength - position, MAX_PAYLOAD_SIZE);\n",
              "      const chunk = new Uint8Array(fileData, position, length);\n",
              "      position += length;\n",
              "\n",
              "      const base64 = btoa(String.fromCharCode.apply(null, chunk));\n",
              "      yield {\n",
              "        response: {\n",
              "          action: 'append',\n",
              "          file: file.name,\n",
              "          data: base64,\n",
              "        },\n",
              "      };\n",
              "\n",
              "      let percentDone = fileData.byteLength === 0 ?\n",
              "          100 :\n",
              "          Math.round((position / fileData.byteLength) * 100);\n",
              "      percent.textContent = `${percentDone}% done`;\n",
              "\n",
              "    } while (position < fileData.byteLength);\n",
              "  }\n",
              "\n",
              "  // All done.\n",
              "  yield {\n",
              "    response: {\n",
              "      action: 'complete',\n",
              "    }\n",
              "  };\n",
              "}\n",
              "\n",
              "scope.google = scope.google || {};\n",
              "scope.google.colab = scope.google.colab || {};\n",
              "scope.google.colab._files = {\n",
              "  _uploadFiles,\n",
              "  _uploadFilesContinue,\n",
              "};\n",
              "})(self);\n",
              "</script> "
            ]
          },
          "metadata": {}
        },
        {
          "output_type": "stream",
          "name": "stdout",
          "text": [
            "Saving data.csv to data.csv\n"
          ]
        }
      ]
    },
    {
      "cell_type": "code",
      "execution_count": null,
      "metadata": {
        "id": "KNjusXKEZOBA"
      },
      "outputs": [],
      "source": [
        "#Machine learning libraries \n",
        "import pandas as pd\n",
        "import numpy as np\n",
        "import matplotlib.pyplot as plt\n",
        "import seaborn as sns\n",
        "import re\n",
        "\n",
        "from sklearn.ensemble import RandomForestClassifier\n",
        "from sklearn.svm import LinearSVC\n",
        "from sklearn.linear_model import LogisticRegression\n",
        "from sklearn.naive_bayes import MultinomialNB\n",
        "from sklearn.metrics import accuracy_score, precision_score, recall_score, f1_score, confusion_matrix, classification_report\n",
        "\n",
        "#Text cleaning library\n",
        "import nltk\n",
        "\n",
        "#Load data set\n",
        "import io\n",
        "df = pd.read_csv(io.BytesIO(uploaded['data.csv']))\n"
      ]
    },
    {
      "cell_type": "markdown",
      "source": [
        "# **Exploring the data set**\n",
        "\n",
        "\n",
        "\n",
        "\n"
      ],
      "metadata": {
        "id": "nCjaRUMTfCw1"
      }
    },
    {
      "cell_type": "code",
      "source": [
        "df.info()"
      ],
      "metadata": {
        "id": "nX6HDbgJeCXa"
      },
      "execution_count": null,
      "outputs": []
    },
    {
      "cell_type": "code",
      "source": [
        "df.head()"
      ],
      "metadata": {
        "id": "uLvfyeQAfTV9"
      },
      "execution_count": null,
      "outputs": []
    },
    {
      "cell_type": "code",
      "source": [
        "# Rename columns for accuracy\n",
        "df.rename(columns = {'title':'post_title' , 'Column1' : 'post' , 'post number' : 'time' , 'diagnosis' : 'disorder' }, inplace = True)\n",
        "\n"
      ],
      "metadata": {
        "id": "HFYiq0SQgOAc"
      },
      "execution_count": null,
      "outputs": []
    },
    {
      "cell_type": "markdown",
      "source": [
        "# **Data Cleaning and transformation**\n"
      ],
      "metadata": {
        "id": "I1tXtdxU0Sza"
      }
    },
    {
      "cell_type": "code",
      "source": [
        "# Checking the total number of null values of each feature\n",
        "df.isnull().sum()"
      ],
      "metadata": {
        "colab": {
          "base_uri": "https://localhost:8080/"
        },
        "id": "dPLt63-xfleH",
        "outputId": "3f3bb8e4-daa6-4f24-ed8a-a3606c32bc39"
      },
      "execution_count": null,
      "outputs": [
        {
          "output_type": "execute_result",
          "data": {
            "text/plain": [
              "title            0\n",
              "Column1        524\n",
              "post number      0\n",
              "over 18          0\n",
              "diagnosis        0\n",
              "dtype: int64"
            ]
          },
          "metadata": {},
          "execution_count": 147
        }
      ]
    },
    {
      "cell_type": "code",
      "source": [
        "#Drop null values\n",
        "df = df.dropna(axis=0)\n",
        "\n",
        "# Checking the total number of null values of each feature after dropping\n",
        "df.isnull().sum()"
      ],
      "metadata": {
        "colab": {
          "base_uri": "https://localhost:8080/"
        },
        "id": "y6yRdEnoGxso",
        "outputId": "e90cb594-20a9-4262-818b-49219b7c9a60"
      },
      "execution_count": null,
      "outputs": [
        {
          "output_type": "execute_result",
          "data": {
            "text/plain": [
              "title          0\n",
              "Column1        0\n",
              "post number    0\n",
              "over 18        0\n",
              "diagnosis      0\n",
              "dtype: int64"
            ]
          },
          "metadata": {},
          "execution_count": 148
        }
      ]
    },
    {
      "cell_type": "code",
      "source": [
        "#Drop irrelevant columns\n",
        "df = df.drop('time', axis = 1)\n",
        "df.head()"
      ],
      "metadata": {
        "colab": {
          "base_uri": "https://localhost:8080/",
          "height": 206
        },
        "id": "M1YUEGAQJInj",
        "outputId": "87d7e4e6-9499-4c51-9cd3-50d1dbc33ca8"
      },
      "execution_count": null,
      "outputs": [
        {
          "output_type": "execute_result",
          "data": {
            "text/plain": [
              "                                              title   \\\n",
              "0  I don’t understand how. I addressed every poin...   \n",
              "1                      derly alone in hospices alone   \n",
              "2  d start kicking the front door in. For about 1...   \n",
              "3   step back and start kicking the front door in...   \n",
              "4                                    Just need help.   \n",
              "\n",
              "                                                post  \\\n",
              "0   she just wasn't hearing me. I apologized for ...   \n",
              "1              not receiving visit from their family   \n",
              "2                  I smash the door at the bottom in   \n",
              "3                  I smash the door at the bottom in   \n",
              "4  *I know everyone is just going to say go to a ...   \n",
              "\n",
              "                                 over 18  \\\n",
              "0   we had a whole conversation about it   \n",
              "1                      we feel tremendo\"   \n",
              "2                             1644363249   \n",
              "3                             1641627602   \n",
              "4                                   TRUE   \n",
              "\n",
              "                                            disorder  \n",
              "0   and I told her that I’d go once I move out we...  \n",
              "1                                         1619282010  \n",
              "2                                              FALSE  \n",
              "3                                              FALSE  \n",
              "4                                      schizophrenia  "
            ],
            "text/html": [
              "\n",
              "  <div id=\"df-ebb66368-09fd-4cb5-90ce-7cf30a7ffb17\">\n",
              "    <div class=\"colab-df-container\">\n",
              "      <div>\n",
              "<style scoped>\n",
              "    .dataframe tbody tr th:only-of-type {\n",
              "        vertical-align: middle;\n",
              "    }\n",
              "\n",
              "    .dataframe tbody tr th {\n",
              "        vertical-align: top;\n",
              "    }\n",
              "\n",
              "    .dataframe thead th {\n",
              "        text-align: right;\n",
              "    }\n",
              "</style>\n",
              "<table border=\"1\" class=\"dataframe\">\n",
              "  <thead>\n",
              "    <tr style=\"text-align: right;\">\n",
              "      <th></th>\n",
              "      <th>title</th>\n",
              "      <th>post</th>\n",
              "      <th>over 18</th>\n",
              "      <th>disorder</th>\n",
              "    </tr>\n",
              "  </thead>\n",
              "  <tbody>\n",
              "    <tr>\n",
              "      <th>0</th>\n",
              "      <td>I don’t understand how. I addressed every poin...</td>\n",
              "      <td>she just wasn't hearing me. I apologized for ...</td>\n",
              "      <td>we had a whole conversation about it</td>\n",
              "      <td>and I told her that I’d go once I move out we...</td>\n",
              "    </tr>\n",
              "    <tr>\n",
              "      <th>1</th>\n",
              "      <td>derly alone in hospices alone</td>\n",
              "      <td>not receiving visit from their family</td>\n",
              "      <td>we feel tremendo\"</td>\n",
              "      <td>1619282010</td>\n",
              "    </tr>\n",
              "    <tr>\n",
              "      <th>2</th>\n",
              "      <td>d start kicking the front door in. For about 1...</td>\n",
              "      <td>I smash the door at the bottom in</td>\n",
              "      <td>1644363249</td>\n",
              "      <td>FALSE</td>\n",
              "    </tr>\n",
              "    <tr>\n",
              "      <th>3</th>\n",
              "      <td>step back and start kicking the front door in...</td>\n",
              "      <td>I smash the door at the bottom in</td>\n",
              "      <td>1641627602</td>\n",
              "      <td>FALSE</td>\n",
              "    </tr>\n",
              "    <tr>\n",
              "      <th>4</th>\n",
              "      <td>Just need help.</td>\n",
              "      <td>*I know everyone is just going to say go to a ...</td>\n",
              "      <td>TRUE</td>\n",
              "      <td>schizophrenia</td>\n",
              "    </tr>\n",
              "  </tbody>\n",
              "</table>\n",
              "</div>\n",
              "      <button class=\"colab-df-convert\" onclick=\"convertToInteractive('df-ebb66368-09fd-4cb5-90ce-7cf30a7ffb17')\"\n",
              "              title=\"Convert this dataframe to an interactive table.\"\n",
              "              style=\"display:none;\">\n",
              "        \n",
              "  <svg xmlns=\"http://www.w3.org/2000/svg\" height=\"24px\"viewBox=\"0 0 24 24\"\n",
              "       width=\"24px\">\n",
              "    <path d=\"M0 0h24v24H0V0z\" fill=\"none\"/>\n",
              "    <path d=\"M18.56 5.44l.94 2.06.94-2.06 2.06-.94-2.06-.94-.94-2.06-.94 2.06-2.06.94zm-11 1L8.5 8.5l.94-2.06 2.06-.94-2.06-.94L8.5 2.5l-.94 2.06-2.06.94zm10 10l.94 2.06.94-2.06 2.06-.94-2.06-.94-.94-2.06-.94 2.06-2.06.94z\"/><path d=\"M17.41 7.96l-1.37-1.37c-.4-.4-.92-.59-1.43-.59-.52 0-1.04.2-1.43.59L10.3 9.45l-7.72 7.72c-.78.78-.78 2.05 0 2.83L4 21.41c.39.39.9.59 1.41.59.51 0 1.02-.2 1.41-.59l7.78-7.78 2.81-2.81c.8-.78.8-2.07 0-2.86zM5.41 20L4 18.59l7.72-7.72 1.47 1.35L5.41 20z\"/>\n",
              "  </svg>\n",
              "      </button>\n",
              "      \n",
              "  <style>\n",
              "    .colab-df-container {\n",
              "      display:flex;\n",
              "      flex-wrap:wrap;\n",
              "      gap: 12px;\n",
              "    }\n",
              "\n",
              "    .colab-df-convert {\n",
              "      background-color: #E8F0FE;\n",
              "      border: none;\n",
              "      border-radius: 50%;\n",
              "      cursor: pointer;\n",
              "      display: none;\n",
              "      fill: #1967D2;\n",
              "      height: 32px;\n",
              "      padding: 0 0 0 0;\n",
              "      width: 32px;\n",
              "    }\n",
              "\n",
              "    .colab-df-convert:hover {\n",
              "      background-color: #E2EBFA;\n",
              "      box-shadow: 0px 1px 2px rgba(60, 64, 67, 0.3), 0px 1px 3px 1px rgba(60, 64, 67, 0.15);\n",
              "      fill: #174EA6;\n",
              "    }\n",
              "\n",
              "    [theme=dark] .colab-df-convert {\n",
              "      background-color: #3B4455;\n",
              "      fill: #D2E3FC;\n",
              "    }\n",
              "\n",
              "    [theme=dark] .colab-df-convert:hover {\n",
              "      background-color: #434B5C;\n",
              "      box-shadow: 0px 1px 3px 1px rgba(0, 0, 0, 0.15);\n",
              "      filter: drop-shadow(0px 1px 2px rgba(0, 0, 0, 0.3));\n",
              "      fill: #FFFFFF;\n",
              "    }\n",
              "  </style>\n",
              "\n",
              "      <script>\n",
              "        const buttonEl =\n",
              "          document.querySelector('#df-ebb66368-09fd-4cb5-90ce-7cf30a7ffb17 button.colab-df-convert');\n",
              "        buttonEl.style.display =\n",
              "          google.colab.kernel.accessAllowed ? 'block' : 'none';\n",
              "\n",
              "        async function convertToInteractive(key) {\n",
              "          const element = document.querySelector('#df-ebb66368-09fd-4cb5-90ce-7cf30a7ffb17');\n",
              "          const dataTable =\n",
              "            await google.colab.kernel.invokeFunction('convertToInteractive',\n",
              "                                                     [key], {});\n",
              "          if (!dataTable) return;\n",
              "\n",
              "          const docLinkHtml = 'Like what you see? Visit the ' +\n",
              "            '<a target=\"_blank\" href=https://colab.research.google.com/notebooks/data_table.ipynb>data table notebook</a>'\n",
              "            + ' to learn more about interactive tables.';\n",
              "          element.innerHTML = '';\n",
              "          dataTable['output_type'] = 'display_data';\n",
              "          await google.colab.output.renderOutput(dataTable, element);\n",
              "          const docLink = document.createElement('div');\n",
              "          docLink.innerHTML = docLinkHtml;\n",
              "          element.appendChild(docLink);\n",
              "        }\n",
              "      </script>\n",
              "    </div>\n",
              "  </div>\n",
              "  "
            ]
          },
          "metadata": {},
          "execution_count": 151
        }
      ]
    },
    {
      "cell_type": "code",
      "source": [
        "# Find unique values \n",
        "df.disorder.unique()"
      ],
      "metadata": {
        "colab": {
          "base_uri": "https://localhost:8080/"
        },
        "id": "QvgyfKd9hlxJ",
        "outputId": "9943a75c-0110-41d3-abba-0719c8b4a66c"
      },
      "execution_count": null,
      "outputs": [
        {
          "output_type": "execute_result",
          "data": {
            "text/plain": [
              "array([' and I told her that I’d go once I move out west because I didn’t want to have to deal with looking for a provider',\n",
              "       '1619282010', 'FALSE', 'schizophrenia', 'depression', 'Anxiety',\n",
              "       'BPD', 'bipolar'], dtype=object)"
            ]
          },
          "metadata": {},
          "execution_count": 152
        }
      ]
    },
    {
      "cell_type": "code",
      "source": [
        "df.drop(df[df['disorder'] == ' and I told her that I’d go once I move out west because I didn’t want to have to deal with looking for a provider'].index, inplace = True)\n",
        "df.drop(df[df['disorder'] == 'FALSE'].index, inplace = True)\n",
        "df.drop(df[df['disorder'] == '1619282010'].index, inplace = True)"
      ],
      "metadata": {
        "id": "Ra_r_j1AHZM_"
      },
      "execution_count": null,
      "outputs": []
    },
    {
      "cell_type": "code",
      "source": [
        "# Find unique values \n",
        "df.disorder.unique()"
      ],
      "metadata": {
        "colab": {
          "base_uri": "https://localhost:8080/"
        },
        "outputId": "e3463270-c3d3-43d2-967c-d731aec2649c",
        "id": "QtZl6rI9JBub"
      },
      "execution_count": null,
      "outputs": [
        {
          "output_type": "execute_result",
          "data": {
            "text/plain": [
              "array(['schizophrenia', 'depression', 'Anxiety', 'BPD', 'bipolar'],\n",
              "      dtype=object)"
            ]
          },
          "metadata": {},
          "execution_count": 121
        }
      ]
    },
    {
      "cell_type": "code",
      "source": [
        "#Combine BPD with Bipolar values\n",
        "df = df.replace(\"BPD\", \"bipolar\")\n",
        "df.disorder.unique()"
      ],
      "metadata": {
        "colab": {
          "base_uri": "https://localhost:8080/"
        },
        "id": "MtqRzORIO1WG",
        "outputId": "66ef42ff-dc0d-4e35-8fb9-f0c125e3e62a"
      },
      "execution_count": null,
      "outputs": [
        {
          "output_type": "execute_result",
          "data": {
            "text/plain": [
              "array([' and I told her that I’d go once I move out west because I didn’t want to have to deal with looking for a provider',\n",
              "       '1619282010', 'FALSE', 'schizophrenia', 'depression', 'Anxiety',\n",
              "       'bipolar'], dtype=object)"
            ]
          },
          "metadata": {},
          "execution_count": 153
        }
      ]
    },
    {
      "cell_type": "markdown",
      "source": [
        "# **Possible disorders values** (from 15,214 reddit posts)\n",
        "\n",
        "Schizophrenia\n",
        "\n",
        "depression\n",
        "\n",
        "Anxiety\n",
        "\n",
        "Bipolar\n",
        "\n",
        "\n",
        "\n",
        "\n",
        "\n",
        "\n",
        "\n",
        "\n",
        "\n"
      ],
      "metadata": {
        "id": "bTn0U8CLjkMl"
      }
    },
    {
      "cell_type": "markdown",
      "source": [
        "# **Text pre-processing**"
      ],
      "metadata": {
        "id": "IgXBp01OQLOu"
      }
    },
    {
      "cell_type": "code",
      "source": [
        " # 1- Lower case post text and remove any digits\n",
        "\n",
        "df['post'] = df['post'].apply(lambda posts : re.sub(r\"[0-9]\", \" \", posts.lower()))\n",
        "df['post']"
      ],
      "metadata": {
        "id": "Ii7avdCW04ar"
      },
      "execution_count": null,
      "outputs": []
    },
    {
      "cell_type": "code",
      "source": [
        "# 2- Remove punctuation marks by tokenization\n",
        "\n",
        "# Split text into tokens\n",
        "from nltk import TreebankWordTokenizer\n",
        "\n",
        "tokenizer = TreebankWordTokenizer()\n",
        "\n",
        "df['post'] = df['post'].apply(lambda x: tokenizer.tokenize(x))\n",
        "df['post']\n",
        "\n",
        "# Remove punctuation\n",
        "import string\n",
        "\n",
        "df['post'] = df['post'].apply(lambda x : list(filter(None,[word.replace('.', '').replace('_','').replace('-','').replace(\"'\",\"\" ).replace(\"`\",\"\").replace('*','') for word in x if word not in string.punctuation])))\n",
        "\n",
        "df['post']"
      ],
      "metadata": {
        "id": "51dnuXlj4RHJ"
      },
      "execution_count": null,
      "outputs": []
    },
    {
      "cell_type": "code",
      "source": [
        " # 3- Remove stop words (All english stop words)\n",
        "\n",
        "#import all english stop words\n",
        "from nltk.corpus import stopwords\n",
        "\n",
        "stop_words = stopwords.words('english')\n",
        "\n",
        "# Handle negations to avoid destroying sentence meaning (remove from stopword list)\n",
        "\n",
        "negation_list = [\"no\",\"nor\", \"not\", \"n't\"]\n",
        "\n",
        "stop_words = [word for word in stop_words if word not in negation_list]\n",
        "stop_words\n",
        "\n",
        "# Removing stopwords from \"post\" Column\n",
        "\n",
        "df['post'] = df['post'].apply(lambda x: [word for word in x if word not in stop_words])\n",
        "df['post'].tolist()\n",
        "df['post']"
      ],
      "metadata": {
        "id": "MI4S9NYZ1Pdk"
      },
      "execution_count": null,
      "outputs": []
    },
    {
      "cell_type": "code",
      "source": [
        "# 4- Transforming words into their root (Stemming)  ex: 'studies → study / studying → study'\n",
        "df['post']\n",
        "\n",
        "from nltk.stem import SnowballStemmer\n",
        "\n",
        "stemmer = SnowballStemmer('english')\n",
        "\n",
        "df['post'] = df['post'].apply(lambda x: [stemmer.stem(word) for word in x])\n",
        "\n",
        "df['post']"
      ],
      "metadata": {
        "id": "UVZgyu_L5yKM"
      },
      "execution_count": null,
      "outputs": []
    },
    {
      "cell_type": "code",
      "source": [
        "# 5- Remove elongated words (Lemmatization)  ex: 'studies → study / studying → study'\n",
        "from nltk.stem import WordNetLemmatizer\n",
        "\n",
        "lemmatizer = WordNetLemmatizer()\n",
        "\n",
        "df['post'] = df['post'].apply(lambda x: [lemmatizer.lemmatize(word) for word in x])\n",
        "\n",
        "df['post']"
      ],
      "metadata": {
        "id": "U0YC5xL_3TIj"
      },
      "execution_count": null,
      "outputs": []
    },
    {
      "cell_type": "code",
      "source": [
        "# Join all words in a post into a string\n",
        "\n",
        "df['post']= df['post'].apply(lambda x : \" \".join(x))\n",
        "df['post']"
      ],
      "metadata": {
        "id": "SZYOSJAGmFox"
      },
      "execution_count": null,
      "outputs": []
    },
    {
      "cell_type": "markdown",
      "source": [
        "# **Data visualization**"
      ],
      "metadata": {
        "id": "OERwy71-mJbk"
      }
    },
    {
      "cell_type": "code",
      "source": [
        "# Occurences of each disorder\n",
        "ax = sns.countplot(x = 'disorder', data = df, order=df['disorder'].value_counts(ascending=True).index, palette = 'flare')\n",
        "ax.bar_label(ax.containers[0])"
      ],
      "metadata": {
        "colab": {
          "base_uri": "https://localhost:8080/",
          "height": 468
        },
        "id": "wjIrX0tDhVl1",
        "outputId": "3dd52ae5-f167-445c-b1a4-0a8797ac26a2"
      },
      "execution_count": null,
      "outputs": [
        {
          "output_type": "execute_result",
          "data": {
            "text/plain": [
              "[Text(0, 0, '739'), Text(0, 0, '3187'), Text(0, 0, '4991'), Text(0, 0, '5768')]"
            ]
          },
          "metadata": {},
          "execution_count": 161
        },
        {
          "output_type": "display_data",
          "data": {
            "text/plain": [
              "<Figure size 640x480 with 1 Axes>"
            ],
            "image/png": "[encoded data removed]"
          },
          "metadata": {}
        }
      ]
    },
    {
      "cell_type": "code",
      "source": [
        "#Percentage of disorders from data set\n",
        "\n",
        "df1 = pd.DataFrame(df['disorder'].value_counts(ascending=True).reset_index())\n",
        "\n",
        "plt.pie(data=df1, x='disorder',labels='index', autopct='%.1f%%', colors=sns.color_palette('Spectral'))\n",
        "plt.show()"
      ],
      "metadata": {
        "colab": {
          "base_uri": "https://localhost:8080/",
          "height": 406
        },
        "id": "uEzyFO3ITJek",
        "outputId": "73963bd2-3879-48fe-e502-4377bcfceed1"
      },
      "execution_count": null,
      "outputs": [
        {
          "output_type": "display_data",
          "data": {
            "text/plain": [
              "<Figure size 640x480 with 1 Axes>"
            ],
            "image/png": "[encoded data removed]"
          },
          "metadata": {}
        }
      ]
    },
    {
      "cell_type": "markdown",
      "source": [
        "# **Modeling** \n",
        "(Linear Support vector machine / Logistic regression / Naive bayes / Random forests)"
      ],
      "metadata": {
        "id": "EbpOwKmpDgvM"
      }
    },
    {
      "cell_type": "code",
      "source": [
        "#Split data into training and testing \n",
        "# Total posts = 15,214\n",
        "# 90% training (13,726)  \n",
        "# 10% testing (1,488)\n",
        "\n",
        "from sklearn.model_selection import train_test_split, GridSearchCV\n",
        "from sklearn.feature_extraction.text import CountVectorizer\n",
        "\n",
        "X = df['post']            #Independent Variable\n",
        "y = df['disorder']        #Dependent Variable\n",
        "\n",
        "x_train, x_test, y_train, y_test = train_test_split(X, y, test_size=0.1, random_state=42)\n"
      ],
      "metadata": {
        "id": "ALwgvU4GD2-z"
      },
      "execution_count": null,
      "outputs": []
    },
    {
      "cell_type": "code",
      "source": [
        "#Encode post data using bag of words approach \n",
        "from nltk import ngrams\n",
        "\n",
        "count_vect = CountVectorizer(max_features= 1000, ngram_range=(1,3))\n",
        "\n",
        "x_train_post = count_vect.fit_transform(x_train) #transformed train reviews\n",
        "\n",
        "x_test_post = count_vect.transform(x_test) #transformed test reviews\n",
        "\n",
        "print('BOW_train:', x_train_post.shape)\n",
        "print('BOW_test:', x_test_post.shape)"
      ],
      "metadata": {
        "colab": {
          "base_uri": "https://localhost:8080/"
        },
        "id": "3bNm4DIjMrmN",
        "outputId": "ed4f7bd0-46ee-491c-ea5b-2cb5bc08746e"
      },
      "execution_count": null,
      "outputs": [
        {
          "output_type": "stream",
          "name": "stdout",
          "text": [
            "BOW_train: (13216, 1000)\n",
            "BOW_test: (1469, 1000)\n"
          ]
        }
      ]
    },
    {
      "cell_type": "code",
      "source": [
        "#Define classifiers\n",
        "rf_clf = RandomForestClassifier(random_state=42)\n",
        "svc_clf = LinearSVC(C=10)\n",
        "lr_clf = LogisticRegression(C=10)\n",
        "nb_clf = MultinomialNB(alpha=1)\n"
      ],
      "metadata": {
        "id": "J1zkQBMyE1kO"
      },
      "execution_count": null,
      "outputs": []
    },
    {
      "cell_type": "code",
      "source": [
        "# Define the parameter grids for each classifier\n",
        "rf_param_grid = {'n_estimators': [100, 200, 300], 'max_depth': [5, 10, 20]}\n",
        "svc_param_grid = {'C': [0.1, 1, 10]}\n",
        "lr_param_grid = {'C': [0.1, 1, 10]}\n",
        "nb_param_grid = {'alpha': [0.1, 1, 10]}"
      ],
      "metadata": {
        "id": "v-0XxGNsMDQq"
      },
      "execution_count": null,
      "outputs": []
    },
    {
      "cell_type": "code",
      "source": [
        "#Random forests classifier\n",
        "rf_grid = GridSearchCV(RandomForestClassifier(random_state=42), rf_param_grid, cv=5)"
      ],
      "metadata": {
        "id": "Opps5wOpFL64"
      },
      "execution_count": null,
      "outputs": []
    },
    {
      "cell_type": "code",
      "source": [
        "# Support vector machine classifier\n",
        "svc_param_grid = {'C': [0.1, 1, 10]}\n",
        "svc_grid = GridSearchCV(svc_clf, svc_param_grid, cv=5)"
      ],
      "metadata": {
        "id": "UuJ7kzumE-0-"
      },
      "execution_count": null,
      "outputs": []
    },
    {
      "cell_type": "code",
      "source": [
        "# Logistic regression classifier\n",
        "# Suppress warnings\n",
        "import warnings\n",
        "warnings.filterwarnings('ignore')\n",
        "\n",
        "from sklearn.preprocessing import StandardScaler\n",
        "scaler = StandardScaler(with_mean=False)\n",
        "x_train_scaled = scaler.fit_transform(x_train_post)\n",
        "x_test_scaled = scaler.transform(x_test_post)\n",
        "\n",
        "lr_grid = GridSearchCV(lr_clf, lr_param_grid, cv=5)\n"
      ],
      "metadata": {
        "id": "X8867aAWFEOe"
      },
      "execution_count": null,
      "outputs": []
    },
    {
      "cell_type": "code",
      "source": [
        "# Naive Bayes classifier\n",
        "nb_param_grid = {'alpha': [0.01, 0.1, 1, 10]}\n",
        "nb_grid = GridSearchCV(nb_clf, nb_param_grid, cv=5)"
      ],
      "metadata": {
        "id": "UmXLUMITFQJP"
      },
      "execution_count": null,
      "outputs": []
    },
    {
      "cell_type": "code",
      "source": [
        "# Fit the models\n",
        "rf_clf.fit(x_train_post, y_train)\n",
        "svc_clf.fit(x_train_post, y_train)\n",
        "lr_clf.fit(x_train_post, y_train)\n",
        "nb_clf.fit(x_train_post, y_train)"
      ],
      "metadata": {
        "id": "is7bnkHxFAOp",
        "colab": {
          "base_uri": "https://localhost:8080/",
          "height": 75
        },
        "outputId": "a8175b7a-ffbe-478a-afb1-a1f351f72989"
      },
      "execution_count": null,
      "outputs": [
        {
          "output_type": "execute_result",
          "data": {
            "text/plain": [
              "MultinomialNB(alpha=1)"
            ],
            "text/html": [
              "<style>#sk-container-id-2 {color: black;background-color: white;}#sk-container-id-2 pre{padding: 0;}#sk-container-id-2 div.sk-toggleable {background-color: white;}#sk-container-id-2 label.sk-toggleable__label {cursor: pointer;display: block;width: 100%;margin-bottom: 0;padding: 0.3em;box-sizing: border-box;text-align: center;}#sk-container-id-2 label.sk-toggleable__label-arrow:before {content: \"▸\";float: left;margin-right: 0.25em;color: #696969;}#sk-container-id-2 label.sk-toggleable__label-arrow:hover:before {color: black;}#sk-container-id-2 div.sk-estimator:hover label.sk-toggleable__label-arrow:before {color: black;}#sk-container-id-2 div.sk-toggleable__content {max-height: 0;max-width: 0;overflow: hidden;text-align: left;background-color: #f0f8ff;}#sk-container-id-2 div.sk-toggleable__content pre {margin: 0.2em;color: black;border-radius: 0.25em;background-color: #f0f8ff;}#sk-container-id-2 input.sk-toggleable__control:checked~div.sk-toggleable__content {max-height: 200px;max-width: 100%;overflow: auto;}#sk-container-id-2 input.sk-toggleable__control:checked~label.sk-toggleable__label-arrow:before {content: \"▾\";}#sk-container-id-2 div.sk-estimator input.sk-toggleable__control:checked~label.sk-toggleable__label {background-color: #d4ebff;}#sk-container-id-2 div.sk-label input.sk-toggleable__control:checked~label.sk-toggleable__label {background-color: #d4ebff;}#sk-container-id-2 input.sk-hidden--visually {border: 0;clip: rect(1px 1px 1px 1px);clip: rect(1px, 1px, 1px, 1px);height: 1px;margin: -1px;overflow: hidden;padding: 0;position: absolute;width: 1px;}#sk-container-id-2 div.sk-estimator {font-family: monospace;background-color: #f0f8ff;border: 1px dotted black;border-radius: 0.25em;box-sizing: border-box;margin-bottom: 0.5em;}#sk-container-id-2 div.sk-estimator:hover {background-color: #d4ebff;}#sk-container-id-2 div.sk-parallel-item::after {content: \"\";width: 100%;border-bottom: 1px solid gray;flex-grow: 1;}#sk-container-id-2 div.sk-label:hover label.sk-toggleable__label {background-color: #d4ebff;}#sk-container-id-2 div.sk-serial::before {content: \"\";position: absolute;border-left: 1px solid gray;box-sizing: border-box;top: 0;bottom: 0;left: 50%;z-index: 0;}#sk-container-id-2 div.sk-serial {display: flex;flex-direction: column;align-items: center;background-color: white;padding-right: 0.2em;padding-left: 0.2em;position: relative;}#sk-container-id-2 div.sk-item {position: relative;z-index: 1;}#sk-container-id-2 div.sk-parallel {display: flex;align-items: stretch;justify-content: center;background-color: white;position: relative;}#sk-container-id-2 div.sk-item::before, #sk-container-id-2 div.sk-parallel-item::before {content: \"\";position: absolute;border-left: 1px solid gray;box-sizing: border-box;top: 0;bottom: 0;left: 50%;z-index: -1;}#sk-container-id-2 div.sk-parallel-item {display: flex;flex-direction: column;z-index: 1;position: relative;background-color: white;}#sk-container-id-2 div.sk-parallel-item:first-child::after {align-self: flex-end;width: 50%;}#sk-container-id-2 div.sk-parallel-item:last-child::after {align-self: flex-start;width: 50%;}#sk-container-id-2 div.sk-parallel-item:only-child::after {width: 0;}#sk-container-id-2 div.sk-dashed-wrapped {border: 1px dashed gray;margin: 0 0.4em 0.5em 0.4em;box-sizing: border-box;padding-bottom: 0.4em;background-color: white;}#sk-container-id-2 div.sk-label label {font-family: monospace;font-weight: bold;display: inline-block;line-height: 1.2em;}#sk-container-id-2 div.sk-label-container {text-align: center;}#sk-container-id-2 div.sk-container {/* jupyter's `normalize.less` sets `[hidden] { display: none; }` but bootstrap.min.css set `[hidden] { display: none !important; }` so we also need the `!important` here to be able to override the default hidden behavior on the sphinx rendered scikit-learn.org. See: https://github.com/scikit-learn/scikit-learn/issues/21755 */display: inline-block !important;position: relative;}#sk-container-id-2 div.sk-text-repr-fallback {display: none;}</style><div id=\"sk-container-id-2\" class=\"sk-top-container\"><div class=\"sk-text-repr-fallback\"><pre>MultinomialNB(alpha=1)</pre><b>In a Jupyter environment, please rerun this cell to show the HTML representation or trust the notebook. <br />On GitHub, the HTML representation is unable to render, please try loading this page with nbviewer.org.</b></div><div class=\"sk-container\" hidden><div class=\"sk-item\"><div class=\"sk-estimator sk-toggleable\"><input class=\"sk-toggleable__control sk-hidden--visually\" id=\"sk-estimator-id-2\" type=\"checkbox\" checked><label for=\"sk-estimator-id-2\" class=\"sk-toggleable__label sk-toggleable__label-arrow\">MultinomialNB</label><div class=\"sk-toggleable__content\"><pre>MultinomialNB(alpha=1)</pre></div></div></div></div></div>"
            ]
          },
          "metadata": {},
          "execution_count": 169
        }
      ]
    },
    {
      "cell_type": "code",
      "source": [
        "# Predict with the models\n",
        "rf_y_pred = rf_clf.predict(x_test_post)\n",
        "svc_y_pred = svc_clf.predict(x_test_post)\n",
        "lr_y_pred = lr_clf.predict(x_test_post)\n",
        "nb_y_pred = nb_clf.predict(x_test_post)"
      ],
      "metadata": {
        "id": "u4pBhUdeFCQb"
      },
      "execution_count": null,
      "outputs": []
    },
    {
      "cell_type": "markdown",
      "source": [
        "# **Evaluation**"
      ],
      "metadata": {
        "id": "a787CY40DkGm"
      }
    },
    {
      "cell_type": "code",
      "source": [
        "classifiers = [('Random forests', rf_y_pred), ('Linear SVC', svc_y_pred), ('Logistic Regression', lr_y_pred), ('Naive Bayes', nb_y_pred)]\n",
        "for clf in classifiers:\n",
        "  print('Classifier:', clf[0]) \n",
        "  print('Accuracy:', accuracy_score(y_test, clf[1]))\n",
        "  print('F1 Score:', f1_score(y_test, clf[1], average='weighted'))"
      ],
      "metadata": {
        "id": "fG_v453lG9vp"
      },
      "execution_count": null,
      "outputs": []
    },
    {
      "cell_type": "code",
      "source": [
        "\n",
        "accuracy_scores = []\n",
        "f1_scores = []\n",
        "\n",
        "for clf in classifiers:\n",
        "    accuracy = accuracy_score(y_test, clf[1])\n",
        "    f1 = f1_score(y_test, clf[1], average='weighted')\n",
        "    accuracy_scores.append(accuracy)\n",
        "    f1_scores.append(f1)\n",
        "    print('Classifier:', clf[0])\n",
        "    print('Accuracy:', accuracy)\n",
        "    print('F1 Score:', f1)\n",
        "    print()\n",
        "\n",
        "# Plotting the accuracy scores\n",
        "plt.figure(figsize=(10, 5))\n",
        "sns.barplot(x=[clf[0] for clf in classifiers], y=accuracy_scores, palette = 'crest')\n",
        "plt.xlabel('Classifier')\n",
        "plt.ylabel('Accuracy')\n",
        "plt.title('Accuracy Scores of Classifiers')\n",
        "for i in range(len(classifiers)):\n",
        "    plt.text(i, accuracy_scores[i], f\"{accuracy_scores[i]:.3f}\", ha='center', va='bottom')\n",
        "plt.show()\n",
        "\n",
        "# Plotting the F1 scores\n",
        "plt.figure(figsize=(10, 5))\n",
        "sns.barplot(x=[clf[0] for clf in classifiers], y=f1_scores, palette = 'crest')\n",
        "plt.xlabel('Classifier')\n",
        "plt.ylabel('F1 Score')\n",
        "plt.title('F1 Scores of Classifiers')\n",
        "for i in range(len(classifiers)):\n",
        "    plt.text(i, f1_scores[i], f\"{f1_scores[i]:.3f}\", ha='center', va='bottom')\n",
        "plt.show()"
      ],
      "metadata": {
        "id": "cog2wZc3Ynbo"
      },
      "execution_count": null,
      "outputs": []
    },
    {
      "cell_type": "markdown",
      "source": [
        "# Report"
      ],
      "metadata": {
        "id": "DDzPgpwBXbkb"
      }
    },
    {
      "cell_type": "code",
      "source": [
        "# Evaluate the classifiers\n",
        "classifiers = [('Random forests', rf_y_pred), ('Linear SVC', svc_y_pred), ('Logistic Regression', lr_y_pred), ('Naive Bayes', nb_y_pred)]\n",
        "\n",
        "for clf in classifiers:\n",
        "    print('Classifier:', clf[0])\n",
        "    print('Accuracy:', accuracy_score(y_test, clf[1]))\n",
        "    print('Precision:', precision_score(y_test, clf[1], average='weighted'))\n",
        "    print('Recall:', recall_score(y_test, clf[1], average='weighted'))\n",
        "    print('F1 Score:', f1_score(y_test, clf[1], average='weighted'))\n",
        "    print('Confusion Matrix:\\n', confusion_matrix(y_test, clf[1]))\n",
        "\n"
      ],
      "metadata": {
        "id": "NE1Yx7CFGmVL"
      },
      "execution_count": null,
      "outputs": []
    },
    {
      "cell_type": "code",
      "source": [
        "# Print the classification report for each model\n",
        "print('Random forest classifier\\n', classification_report(y_test, rf_y_pred))\n",
        "print('Linear SVC classifier\\n', classification_report(y_test, svc_y_pred))\n",
        "print('Logistic Regression Classifier\\n', classification_report(y_test, lr_y_pred))\n",
        "print('Naive Bayes Classifier\\n', classification_report(y_test, nb_y_pred))"
      ],
      "metadata": {
        "colab": {
          "base_uri": "https://localhost:8080/"
        },
        "id": "BI4-yKMrDiai",
        "outputId": "3a26a1f6-351c-48c5-c908-88e95079f571"
      },
      "execution_count": null,
      "outputs": [
        {
          "output_type": "stream",
          "name": "stdout",
          "text": [
            "Random forest classifier\n",
            "                precision    recall  f1-score   support\n",
            "\n",
            "      Anxiety       0.86      0.69      0.76       308\n",
            "      bipolar       0.80      0.56      0.66       505\n",
            "   depression       0.62      0.91      0.74       578\n",
            "schizophrenia       0.82      0.18      0.29        78\n",
            "\n",
            "     accuracy                           0.71      1469\n",
            "    macro avg       0.77      0.59      0.61      1469\n",
            " weighted avg       0.74      0.71      0.69      1469\n",
            "\n",
            "Linear SVC classifier\n",
            "                precision    recall  f1-score   support\n",
            "\n",
            "      Anxiety       0.77      0.72      0.74       308\n",
            "      bipolar       0.83      0.49      0.62       505\n",
            "   depression       0.62      0.86      0.72       578\n",
            "schizophrenia       0.32      0.29      0.31        78\n",
            "\n",
            "     accuracy                           0.67      1469\n",
            "    macro avg       0.63      0.59      0.60      1469\n",
            " weighted avg       0.71      0.67      0.67      1469\n",
            "\n",
            "Logistic Regression Classifier\n",
            "                precision    recall  f1-score   support\n",
            "\n",
            "      Anxiety       0.77      0.70      0.74       308\n",
            "      bipolar       0.75      0.53      0.62       505\n",
            "   depression       0.62      0.85      0.72       578\n",
            "schizophrenia       0.53      0.24      0.33        78\n",
            "\n",
            "     accuracy                           0.68      1469\n",
            "    macro avg       0.67      0.58      0.60      1469\n",
            " weighted avg       0.69      0.68      0.67      1469\n",
            "\n",
            "Naive Bayes Classifier\n",
            "                precision    recall  f1-score   support\n",
            "\n",
            "      Anxiety       0.75      0.72      0.73       308\n",
            "      bipolar       0.74      0.54      0.62       505\n",
            "   depression       0.63      0.83      0.72       578\n",
            "schizophrenia       0.39      0.23      0.29        78\n",
            "\n",
            "     accuracy                           0.68      1469\n",
            "    macro avg       0.63      0.58      0.59      1469\n",
            " weighted avg       0.68      0.68      0.67      1469\n",
            "\n"
          ]
        }
      ]
    }
  ]
}